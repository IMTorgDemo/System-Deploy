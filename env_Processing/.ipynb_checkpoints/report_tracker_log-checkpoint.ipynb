{
 "cells": [
  {
   "cell_type": "markdown",
   "metadata": {},
   "source": [
    "[install](https://github.com/mongodb/mongo-hadoop/blob/master/spark/src/main/python/README.rst)"
   ]
  },
  {
   "cell_type": "code",
   "execution_count": 1,
   "metadata": {},
   "outputs": [
    {
     "data": {
      "text/plain": [
       "[93, 751, 454, 944, 326]"
      ]
     },
     "execution_count": 1,
     "metadata": {},
     "output_type": "execute_result"
    }
   ],
   "source": [
    "import pyspark\n",
    "sc = pyspark.SparkContext('local[*]')\n",
    "\n",
    "# test\n",
    "rdd = sc.parallelize(range(1000))\n",
    "rdd.takeSample(False, 5)"
   ]
  },
  {
   "cell_type": "code",
   "execution_count": 3,
   "metadata": {},
   "outputs": [
    {
     "name": "stdout",
     "output_type": "stream",
     "text": [
      "myapp-info.log.1\r\n"
     ]
    }
   ],
   "source": [
    "! ls data_shared"
   ]
  },
  {
   "cell_type": "code",
   "execution_count": 4,
   "metadata": {},
   "outputs": [
    {
     "name": "stdout",
     "output_type": "stream",
     "text": [
      "{\"name\":\"ssaga_api\",\"hostname\":\"jason-ThinkPad-T430\",\"pid\":16087,\"level\":30,\"msg\":\"enter index-2\",\"time\":\"2017-12-09T16:04:12.928Z\",\"v\":0}\r\n",
      "{\"name\":\"ssaga_api\",\"hostname\":\"jason-ThinkPad-T430\",\"pid\":16087,\"level\":30,\"msg\":\"enter index-2\",\"time\":\"2017-12-09T16:04:12.946Z\",\"v\":0}\r\n",
      "{\"name\":\"ssaga_api\",\"hostname\":\"jason-ThinkPad-T430\",\"pid\":16087,\"level\":30,\"msg\":\"enter index-2\",\"time\":\"2017-12-09T16:04:12.960Z\",\"v\":0}\r\n",
      "{\"name\":\"ssaga_api\",\"hostname\":\"jason-ThinkPad-T430\",\"pid\":16087,\"level\":30,\"msg\":\"enter index-1\",\"time\":\"2017-12-09T16:04:12.969Z\",\"v\":0}\r\n",
      "{\"name\":\"ssaga_api\",\"hostname\":\"jason-ThinkPad-T430\",\"pid\":16087,\"level\":30,\"tracker\":\"1932198104947105\",\"msg\":\"\",\"time\":\"2017-12-09T16:04:13.577Z\",\"v\":0}\r\n",
      "{\"name\":\"ssaga_api\",\"hostname\":\"jason-ThinkPad-T430\",\"pid\":16087,\"level\":30,\"msg\":\"enter index-2\",\"time\":\"2017-12-09T16:04:13.590Z\",\"v\":0}\r\n",
      "{\"name\":\"ssaga_api\",\"hostname\":\"jason-ThinkPad-T430\",\"pid\":16087,\"level\":30,\"msg\":\"enter index-2\",\"time\":\"2017-12-09T16:04:13.600Z\",\"v\":0}\r\n",
      "{\"name\":\"ssaga_api\",\"hostname\":\"jason-ThinkPad-T430\",\"pid\":16087,\"level\":30,\"msg\":\"enter index-1\",\"time\":\"2017-12-09T16:04:13.621Z\",\"v\":0}\r\n",
      "{\"name\":\"ssaga_api\",\"hostname\":\"jason-ThinkPad-T430\",\"pid\":16087,\"level\":30,\"tracker\":\"047920174413910166\",\"msg\":\"\",\"time\":\"2017-12-09T16:04:14.190Z\",\"v\":0}\r\n",
      "{\"name\":\"ssaga_api\",\"hostname\":\"jason-ThinkPad-T430\",\"pid\":16087,\"level\":30,\"msg\":\"enter index-2\",\"time\":\"2017-12-09T16:04:14.197Z\",\"v\":0}\r\n"
     ]
    }
   ],
   "source": [
    "! head data_shared/myapp-info.log.1"
   ]
  },
  {
   "cell_type": "code",
   "execution_count": 5,
   "metadata": {},
   "outputs": [],
   "source": [
    "from pyspark.sql import SparkSession\n",
    "\n",
    "spark = SparkSession \\\n",
    "    .builder \\\n",
    "    .appName(\"Python Spark SQL basic example\") \\\n",
    "    .config(\"spark.some.config.option\", \"some-value\") \\\n",
    "    .getOrCreate()"
   ]
  },
  {
   "cell_type": "code",
   "execution_count": 6,
   "metadata": {},
   "outputs": [],
   "source": [
    "df = spark.read.json(\"data_shared/myapp-info.log.1\")"
   ]
  },
  {
   "cell_type": "code",
   "execution_count": 7,
   "metadata": {},
   "outputs": [
    {
     "name": "stdout",
     "output_type": "stream",
     "text": [
      "root\n",
      " |-- hostname: string (nullable = true)\n",
      " |-- level: long (nullable = true)\n",
      " |-- msg: string (nullable = true)\n",
      " |-- name: string (nullable = true)\n",
      " |-- pid: long (nullable = true)\n",
      " |-- time: string (nullable = true)\n",
      " |-- tracker: string (nullable = true)\n",
      " |-- v: long (nullable = true)\n",
      "\n"
     ]
    }
   ],
   "source": [
    "df.printSchema()"
   ]
  },
  {
   "cell_type": "code",
   "execution_count": 8,
   "metadata": {},
   "outputs": [
    {
     "data": {
      "text/plain": [
       "Row(hostname='jason-ThinkPad-T430', level=30, msg='enter index-2', name='ssaga_api', pid=16087, time='2017-12-09T16:04:12.928Z', tracker=None, v=0)"
      ]
     },
     "execution_count": 8,
     "metadata": {},
     "output_type": "execute_result"
    }
   ],
   "source": [
    "df.head()"
   ]
  },
  {
   "cell_type": "code",
   "execution_count": 9,
   "metadata": {},
   "outputs": [],
   "source": [
    "# Register the DataFrame as a global temporary view\n",
    "df.createGlobalTempView(\"info\")"
   ]
  },
  {
   "cell_type": "code",
   "execution_count": 10,
   "metadata": {},
   "outputs": [],
   "source": [
    "# Global temporary view is tied to a system preserved database `global_temp`\n",
    "dfTrkr = spark.sql(\"SELECT * FROM global_temp.info WHERE tracker is not null \")\n",
    "pDf = dfTrkr.toPandas()"
   ]
  },
  {
   "cell_type": "code",
   "execution_count": 11,
   "metadata": {},
   "outputs": [
    {
     "data": {
      "text/plain": [
       "25"
      ]
     },
     "execution_count": 11,
     "metadata": {},
     "output_type": "execute_result"
    }
   ],
   "source": [
    "pDf.tracker.count()"
   ]
  },
  {
   "cell_type": "code",
   "execution_count": null,
   "metadata": {},
   "outputs": [],
   "source": []
  }
 ],
 "metadata": {
  "kernelspec": {
   "display_name": "Python 3",
   "language": "python",
   "name": "python3"
  },
  "language_info": {
   "codemirror_mode": {
    "name": "ipython",
    "version": 3
   },
   "file_extension": ".py",
   "mimetype": "text/x-python",
   "name": "python",
   "nbconvert_exporter": "python",
   "pygments_lexer": "ipython3",
   "version": "3.6.3"
  }
 },
 "nbformat": 4,
 "nbformat_minor": 2
}
