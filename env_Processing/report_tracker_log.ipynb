{
 "cells": [
  {
   "cell_type": "markdown",
   "metadata": {},
   "source": [
    "[install](https://github.com/mongodb/mongo-hadoop/blob/master/spark/src/main/python/README.rst)"
   ]
  },
  {
   "cell_type": "code",
   "execution_count": 30,
   "metadata": {},
   "outputs": [
    {
     "name": "stdout",
     "output_type": "stream",
     "text": [
      "Collecting pymongo\n",
      "  Downloading pymongo-3.6.0-cp36-cp36m-manylinux1_x86_64.whl (378kB)\n",
      "\u001b[K    100% |████████████████████████████████| 378kB 1.3MB/s ta 0:00:01\n",
      "\u001b[?25hInstalling collected packages: pymongo\n",
      "Successfully installed pymongo-3.6.0\n"
     ]
    }
   ],
   "source": [
    "! pip install pymongo"
   ]
  },
  {
   "cell_type": "code",
   "execution_count": 3,
   "metadata": {},
   "outputs": [
    {
     "name": "stdout",
     "output_type": "stream",
     "text": [
      "Requirement already satisfied: pymongo_spark in /opt/conda/lib/python3.6/site-packages/pymongo_spark-0.1.dev0-py3.6.egg\r\n",
      "Requirement already satisfied: pymongo>=3.0.3 in /opt/conda/lib/python3.6/site-packages (from pymongo_spark)\r\n"
     ]
    }
   ],
   "source": [
    "! pip install pymongo_spark"
   ]
  },
  {
   "cell_type": "code",
   "execution_count": 4,
   "metadata": {},
   "outputs": [
    {
     "ename": "ModuleNotFoundError",
     "evalue": "No module named 'pymongo_spark'",
     "output_type": "error",
     "traceback": [
      "\u001b[0;31m---------------------------------------------------------------------------\u001b[0m",
      "\u001b[0;31mModuleNotFoundError\u001b[0m                       Traceback (most recent call last)",
      "\u001b[0;32m<ipython-input-4-64ada746be14>\u001b[0m in \u001b[0;36m<module>\u001b[0;34m()\u001b[0m\n\u001b[0;32m----> 1\u001b[0;31m \u001b[0;32mimport\u001b[0m \u001b[0mpymongo_spark\u001b[0m\u001b[0;34m\u001b[0m\u001b[0m\n\u001b[0m",
      "\u001b[0;31mModuleNotFoundError\u001b[0m: No module named 'pymongo_spark'"
     ]
    }
   ],
   "source": [
    "import pymongo_spark"
   ]
  },
  {
   "cell_type": "code",
   "execution_count": 1,
   "metadata": {},
   "outputs": [
    {
     "data": {
      "text/plain": [
       "[939, 676, 414, 836, 30]"
      ]
     },
     "execution_count": 1,
     "metadata": {},
     "output_type": "execute_result"
    }
   ],
   "source": [
    "import pyspark\n",
    "sc = pyspark.SparkContext('local[*]')\n",
    "\n",
    "# test\n",
    "rdd = sc.parallelize(range(1000))\n",
    "rdd.takeSample(False, 5)"
   ]
  },
  {
   "cell_type": "code",
   "execution_count": 2,
   "metadata": {},
   "outputs": [
    {
     "name": "stdout",
     "output_type": "stream",
     "text": [
      "myapp-info.log.1  Untitled.ipynb\r\n"
     ]
    }
   ],
   "source": [
    "! ls"
   ]
  },
  {
   "cell_type": "code",
   "execution_count": 3,
   "metadata": {},
   "outputs": [
    {
     "name": "stdout",
     "output_type": "stream",
     "text": [
      "{\"name\":\"ssaga_api\",\"hostname\":\"jason-ThinkPad-T430\",\"pid\":16087,\"level\":30,\"msg\":\"enter index-2\",\"time\":\"2017-12-09T16:04:12.928Z\",\"v\":0}\r\n",
      "{\"name\":\"ssaga_api\",\"hostname\":\"jason-ThinkPad-T430\",\"pid\":16087,\"level\":30,\"msg\":\"enter index-2\",\"time\":\"2017-12-09T16:04:12.946Z\",\"v\":0}\r\n",
      "{\"name\":\"ssaga_api\",\"hostname\":\"jason-ThinkPad-T430\",\"pid\":16087,\"level\":30,\"msg\":\"enter index-2\",\"time\":\"2017-12-09T16:04:12.960Z\",\"v\":0}\r\n",
      "{\"name\":\"ssaga_api\",\"hostname\":\"jason-ThinkPad-T430\",\"pid\":16087,\"level\":30,\"msg\":\"enter index-1\",\"time\":\"2017-12-09T16:04:12.969Z\",\"v\":0}\r\n",
      "{\"name\":\"ssaga_api\",\"hostname\":\"jason-ThinkPad-T430\",\"pid\":16087,\"level\":30,\"tracker\":\"1932198104947105\",\"msg\":\"\",\"time\":\"2017-12-09T16:04:13.577Z\",\"v\":0}\r\n",
      "{\"name\":\"ssaga_api\",\"hostname\":\"jason-ThinkPad-T430\",\"pid\":16087,\"level\":30,\"msg\":\"enter index-2\",\"time\":\"2017-12-09T16:04:13.590Z\",\"v\":0}\r\n",
      "{\"name\":\"ssaga_api\",\"hostname\":\"jason-ThinkPad-T430\",\"pid\":16087,\"level\":30,\"msg\":\"enter index-2\",\"time\":\"2017-12-09T16:04:13.600Z\",\"v\":0}\r\n",
      "{\"name\":\"ssaga_api\",\"hostname\":\"jason-ThinkPad-T430\",\"pid\":16087,\"level\":30,\"msg\":\"enter index-1\",\"time\":\"2017-12-09T16:04:13.621Z\",\"v\":0}\r\n",
      "{\"name\":\"ssaga_api\",\"hostname\":\"jason-ThinkPad-T430\",\"pid\":16087,\"level\":30,\"tracker\":\"047920174413910166\",\"msg\":\"\",\"time\":\"2017-12-09T16:04:14.190Z\",\"v\":0}\r\n",
      "{\"name\":\"ssaga_api\",\"hostname\":\"jason-ThinkPad-T430\",\"pid\":16087,\"level\":30,\"msg\":\"enter index-2\",\"time\":\"2017-12-09T16:04:14.197Z\",\"v\":0}\r\n"
     ]
    }
   ],
   "source": [
    "! head myapp-info.log.1"
   ]
  },
  {
   "cell_type": "code",
   "execution_count": 9,
   "metadata": {},
   "outputs": [],
   "source": [
    "from pyspark.sql import SparkSession\n",
    "\n",
    "spark = SparkSession \\\n",
    "    .builder \\\n",
    "    .appName(\"Python Spark SQL basic example\") \\\n",
    "    .config(\"spark.some.config.option\", \"some-value\") \\\n",
    "    .getOrCreate()"
   ]
  },
  {
   "cell_type": "code",
   "execution_count": 10,
   "metadata": {},
   "outputs": [],
   "source": [
    "df = spark.read.json(\"myapp-info.log.1\")"
   ]
  },
  {
   "cell_type": "code",
   "execution_count": 13,
   "metadata": {},
   "outputs": [
    {
     "name": "stdout",
     "output_type": "stream",
     "text": [
      "root\n",
      " |-- hostname: string (nullable = true)\n",
      " |-- level: long (nullable = true)\n",
      " |-- msg: string (nullable = true)\n",
      " |-- name: string (nullable = true)\n",
      " |-- pid: long (nullable = true)\n",
      " |-- time: string (nullable = true)\n",
      " |-- tracker: string (nullable = true)\n",
      " |-- v: long (nullable = true)\n",
      "\n"
     ]
    }
   ],
   "source": [
    "df.printSchema()"
   ]
  },
  {
   "cell_type": "code",
   "execution_count": 16,
   "metadata": {},
   "outputs": [
    {
     "data": {
      "text/plain": [
       "Row(hostname='jason-ThinkPad-T430', level=30, msg='enter index-2', name='ssaga_api', pid=16087, time='2017-12-09T16:04:12.928Z', tracker=None, v=0)"
      ]
     },
     "execution_count": 16,
     "metadata": {},
     "output_type": "execute_result"
    }
   ],
   "source": [
    "df.head()"
   ]
  },
  {
   "cell_type": "code",
   "execution_count": null,
   "metadata": {},
   "outputs": [],
   "source": [
    "# Register the DataFrame as a global temporary view\n",
    "df.createGlobalTempView(\"info\")"
   ]
  },
  {
   "cell_type": "code",
   "execution_count": 27,
   "metadata": {},
   "outputs": [],
   "source": [
    "# Global temporary view is tied to a system preserved database `global_temp`\n",
    "dfTrkr = spark.sql(\"SELECT * FROM global_temp.info WHERE tracker is not null \")\n",
    "pDf = dfTrkr.toPandas()"
   ]
  },
  {
   "cell_type": "code",
   "execution_count": 29,
   "metadata": {},
   "outputs": [
    {
     "data": {
      "text/plain": [
       "25"
      ]
     },
     "execution_count": 29,
     "metadata": {},
     "output_type": "execute_result"
    }
   ],
   "source": [
    "pDf.tracker.count()"
   ]
  },
  {
   "cell_type": "code",
   "execution_count": null,
   "metadata": {},
   "outputs": [],
   "source": []
  }
 ],
 "metadata": {
  "kernelspec": {
   "display_name": "Python 3",
   "language": "python",
   "name": "python3"
  },
  "language_info": {
   "codemirror_mode": {
    "name": "ipython",
    "version": 3
   },
   "file_extension": ".py",
   "mimetype": "text/x-python",
   "name": "python",
   "nbconvert_exporter": "python",
   "pygments_lexer": "ipython3",
   "version": "3.6.3"
  }
 },
 "nbformat": 4,
 "nbformat_minor": 2
}
